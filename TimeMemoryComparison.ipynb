{
 "cells": [
  {
   "cell_type": "code",
   "execution_count": 235,
   "metadata": {
    "collapsed": false
   },
   "outputs": [],
   "source": [
    "from sklearn.datasets import load_iris\n",
    "import numpy as np\n",
    "import matplotlib.pyplot as plt\n",
    "from sklearn.metrics.pairwise import pairwise_distances\n",
    "\n",
    "import cProfile\n",
    "\n",
    "\n",
    "def getPermutation(totalRange,numberElements):\n",
    "    random_seed = 10312003\n",
    "    rng = np.random.RandomState(random_seed)\n",
    "    permutation = rng.permutation(totalRange)\n",
    "    return permutation[:numberElements]\n",
    "\n",
    "\n",
    "def onlineKmeans(X,k=3,b=30,maxiter=1000):\n",
    "    #print X\n",
    "    centroids = X[getPermutation(len(X),k)]\n",
    "    pointsPerClusters = np.zeros([k,1])\n",
    "    for i in range(maxiter):\n",
    "        M=X[getPermutation(len(X),b)]\n",
    "        distances = pairwise_distances(M, centroids, metric='euclidean')\n",
    "        nearestCenters = np.argmin(distances, axis=1)\n",
    "        for iter, x in enumerate(M):\n",
    "            centerIndex = nearestCenters[iter]\n",
    "            pointsPerClusters[centerIndex] = pointsPerClusters[centerIndex] + 1\n",
    "            eta = 1/pointsPerClusters[centerIndex]\n",
    "            centroids[centerIndex] = (1 - eta)*centroids[centerIndex] + eta * x\n",
    "\n",
    "    return centroids"
   ]
  },
  {
   "cell_type": "code",
   "execution_count": 236,
   "metadata": {
    "collapsed": false
   },
   "outputs": [],
   "source": [
    "from timeit import Timer\n",
    "from functools import partial\n",
    "from memory_profiler import memory_usage\n",
    "import timeit\n",
    "\n",
    "def profile_memory_and_time(function, *args, **kwargs):\n",
    "    #print \"args is \",args\n",
    "    start_time = timeit.default_timer()\n",
    "    memory, return_val = memory_usage((function, (args), kwargs), max_usage=True, retval=True)\n",
    "    elapsed = timeit.default_timer() - start_time\n",
    "    return memory[0], elapsed,return_val\n",
    "  "
   ]
  },
  {
   "cell_type": "code",
   "execution_count": 237,
   "metadata": {
    "collapsed": false
   },
   "outputs": [
    {
     "name": "stdout",
     "output_type": "stream",
     "text": [
      "(29.66796875, 0.5035429000854492, (array([[ 6.39592343,  2.96967588,  5.06569502,  1.78288449],\n",
      "       [ 4.88164753,  3.34917624,  1.4443335 ,  0.18176735]]), 10))\n"
     ]
    }
   ],
   "source": [
    "iris = load_iris()\n",
    "X=iris.data\n",
    "random_seed = 10312003\n",
    "rng = np.random.RandomState(random_seed)\n",
    "permutation = rng.permutation(len(X))\n",
    "X = X[permutation]\n",
    "print profile_memory_and_time(onlineKmeans, X, k=2, b=33, maxiter=1000)"
   ]
  },
  {
   "cell_type": "code",
   "execution_count": null,
   "metadata": {
    "collapsed": true
   },
   "outputs": [],
   "source": []
  }
 ],
 "metadata": {
  "kernelspec": {
   "display_name": "Python 2",
   "language": "python",
   "name": "python2"
  },
  "language_info": {
   "codemirror_mode": {
    "name": "ipython",
    "version": 2
   },
   "file_extension": ".py",
   "mimetype": "text/x-python",
   "name": "python",
   "nbconvert_exporter": "python",
   "pygments_lexer": "ipython2",
   "version": "2.7.10"
  }
 },
 "nbformat": 4,
 "nbformat_minor": 0
}
