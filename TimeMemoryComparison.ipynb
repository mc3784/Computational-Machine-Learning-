{
 "cells": [
  {
   "cell_type": "code",
   "execution_count": 95,
   "metadata": {
    "collapsed": false
   },
   "outputs": [],
   "source": [
    "from sklearn.datasets import load_iris\n",
    "import numpy as np\n",
    "import matplotlib.pyplot as plt\n",
    "from sklearn.metrics.pairwise import pairwise_distances\n",
    "\n",
    "import cProfile\n",
    "\n",
    "\n",
    "def getPermutation(totalRange,numberElements):\n",
    "    random_seed = 10312003\n",
    "    rng = np.random.RandomState(random_seed)\n",
    "    permutation = rng.permutation(totalRange)\n",
    "    return permutation[:numberElements]\n",
    "\n",
    "\n",
    "def onlineKmeans(X,k=3,b=30,maxiter=1000):\n",
    "    centroids = X[getPermutation(len(X),k)]\n",
    "    pointsPerClusters = np.zeros([k,1])\n",
    "    for i in range(maxiter):\n",
    "        M=X[getPermutation(len(X),b)]\n",
    "        distances = pairwise_distances(M, centroids, metric='euclidean')\n",
    "        nearestCenters = np.argmin(distances, axis=1)\n",
    "        for iter, x in enumerate(M):\n",
    "            centerIndex = nearestCenters[iter]\n",
    "            pointsPerClusters[centerIndex] = pointsPerClusters[centerIndex] + 1\n",
    "            eta = 1/pointsPerClusters[centerIndex]\n",
    "            centroids[centerIndex] = (1 - eta)*centroids[centerIndex] + eta * x\n",
    "\n",
    "    return centroids"
   ]
  },
  {
   "cell_type": "code",
   "execution_count": 102,
   "metadata": {
    "collapsed": false
   },
   "outputs": [],
   "source": [
    "from timeit import Timer\n",
    "from functools import partial\n",
    "from memory_profiler import memory_usage\n",
    "\n",
    "\n",
    "def get_execution_time(function, numberOfExecTime, *args, **kwargs):\n",
    "    \"\"\"Return the execution time of a function in seconds.\"\"\"\n",
    "    time =round(Timer(partial(function, *args, **kwargs)).timeit(numberOfExecTime), 5)\n",
    "    return time\n",
    "\n",
    "def wrapOnlineKmeans(X,k=3,b=30,maxiter=1000):\n",
    "    return get_execution_time(onlineKmeans,1,X,k,b,maxiter)\n",
    "    "
   ]
  },
  {
   "cell_type": "code",
   "execution_count": 104,
   "metadata": {
    "collapsed": false
   },
   "outputs": [
    {
     "name": "stdout",
     "output_type": "stream",
     "text": [
      "69.3984375 0.45492\n"
     ]
    }
   ],
   "source": [
    "def getExTimeAndMemoryUsage(function, *args, **kwargs):\n",
    "    \"\"\"Return the execution time of a function in seconds and the memory usage\"\"\"\n",
    "    #executionTime=round(Timer(partial(function, *args, **kwargs))\n",
    "    #             .timeit(1), 5)\n",
    "    \n",
    "    memoryUsage=memory_usage((test), max_usage=True)[0]\n",
    "    return executionTime,memoryUsage \n",
    "\n",
    "iris = load_iris()\n",
    "X=iris.data\n",
    "random_seed = 10312003\n",
    "rng = np.random.RandomState(random_seed)\n",
    "permutation = rng.permutation(len(X))\n",
    "X = X[permutation]\n",
    "memory, time = memory_usage((wrapOnlineKmeans, (X,), {'k':int(6),'b':int(33)}),max_usage=True, retval=True)\n",
    "print memory[0], time"
   ]
  },
  {
   "cell_type": "code",
   "execution_count": null,
   "metadata": {
    "collapsed": true
   },
   "outputs": [],
   "source": []
  }
 ],
 "metadata": {
  "kernelspec": {
   "display_name": "Python 2",
   "language": "python",
   "name": "python2"
  },
  "language_info": {
   "codemirror_mode": {
    "name": "ipython",
    "version": 2
   },
   "file_extension": ".py",
   "mimetype": "text/x-python",
   "name": "python",
   "nbconvert_exporter": "python",
   "pygments_lexer": "ipython2",
   "version": "2.7.10"
  }
 },
 "nbformat": 4,
 "nbformat_minor": 0
}
