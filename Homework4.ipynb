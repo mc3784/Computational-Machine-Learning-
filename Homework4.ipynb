{
 "cells": [
  {
   "cell_type": "code",
   "execution_count": 17,
   "metadata": {
    "collapsed": false
   },
   "outputs": [],
   "source": [
    "from sklearn.datasets import load_iris\n",
    "import numpy as np\n",
    "from scipy import spatial\n",
    "import matplotlib.pyplot as plt\n",
    "%matplotlib inline\n",
    "\n",
    "def getNewClusterForPoint(point,clusters): \n",
    "    listOfCLusters=[]\n",
    "    for clt in clusters:\n",
    "        listOfCLusters.append(clt.centroid)\n",
    "    return clusters[spatial.KDTree(np.array(listOfCLusters)).query(point)[1]] \n",
    "\n",
    "def mykmeans(dataPoints,maxClusterNumbers,maxIter=100,kmtype=\"plane\"):   \n",
    "    random_seed = 10312003\n",
    "    rng = np.random.RandomState(random_seed)\n",
    "    permutation = rng.permutation(len(dataPoints))\n",
    "    dataPoints = dataPoints[permutation] \n",
    "    data = generateStartingCentroid(dataPoints,maxClusterNumbers,kmeansTypy=kmtype)\n",
    "    centroids=data[0:maxClusterNumbers]\n",
    "    clusters = [Cluster(point,[point]) for point in centroids] \n",
    "    returnCentroids=[]   \n",
    "    for nIter in range(maxIter):\n",
    "    #To exclude the three centroids that were randomly selected from the data    \n",
    "        allThePoints = data[maxClusterNumbers:] if nIter==0 else data \n",
    "        for cl in clusters:   \n",
    "            cl.pointInCluster=[]# Erase all the point in the cluster before starting with the new iteration\n",
    "        for point in allThePoints:\n",
    "            newCluster=getNewClusterForPoint(point,clusters)\n",
    "            newCluster.pointInCluster.append(point) \n",
    "        for cl in clusters:\n",
    "            #If in the cluster there is at list one point:\n",
    "            if len(cl.pointInCluster)!=0:\n",
    "                #New centroid placed on the average of the points in the cluster\n",
    "                newCentroid=np.mean(np.array(cl.pointInCluster),axis=0)\n",
    "                cl.centroid=newCentroid\n",
    "    for cl in clusters:\n",
    "        print \"cluster: \", cl.centroid,\"contains: \",len(cl.pointInCluster),\"points\"\n",
    "        returnCentroids.append(cl.centroid)\n",
    "    plotClusters(clusters) \n",
    "    return centroids\n",
    "\n",
    "class Cluster:\n",
    "    centroid=[]\n",
    "    pointInCluster=[]\n",
    "    def __init__(self,centroid,pointInCluster):\n",
    "        self.centroid=centroid\n",
    "        self.pointInCluster=pointInCluster\n",
    "    def getDistanceFromCentroid(self,point):\n",
    "        return np.linalg.norm(self.centroid-point)\n",
    "\n",
    "def plotClusters(clusters):\n",
    "    for i in range(len(clusters)):\n",
    "        iCluster= np.array(clusters[i].pointInCluster)\n",
    "        plt.scatter(iCluster[:,0], iCluster[:,1],c=np.random.rand(3,1))\n",
    "        centroid=clusters[i].centroid\n",
    "        plt.scatter(centroid[0], centroid[1],c=\"gold\")\n",
    "    plt.show()\n",
    "    \n",
    "\n",
    "#Given a list of centroids and a point, return the closer centroid from this point \n",
    "def getCloserCentroid(point,centroids): \n",
    "    return centroids[spatial.KDTree(np.array(centroids)).query(point)[1]] \n",
    "\n",
    "def generateStartingCentroid(dataPoints,maxClusternumbers,kmeansTypy=\"plane\"):\n",
    "    if kmeansTypy == \"plane\":\n",
    "        return dataPoints\n",
    "    elif kmeansTypy == \"plus\":\n",
    "        centroids = []\n",
    "        centroids.append(dataPoints[0])\n",
    "        for i in range(maxClusternumbers-1):\n",
    "            distList=[]\n",
    "            for point in dataPoints[i+1:]:\n",
    "                dist = np.linalg.norm(point-getCloserCentroid(point,centroids))\n",
    "                distList.append(dist)\n",
    "            weightProb=distList/sum(distList)\n",
    "            indexes=range(len(dataPoints[i+1:]))\n",
    "            index= np.random.choice(indexes, p=weightProb)\n",
    "            #Add 1 because the point was randomly chosen on the n-1 point range so the index is one before the real one\n",
    "            centroids.append(dataPoints[index])\n",
    "            #Put the new centroid at the begining of the array\n",
    "            dataPoints = np.concatenate((dataPoints[index:index+1],dataPoints[:index],dataPoints[index+1:]),axis=0)\n",
    "        #print \"starting centroid:\",centroids\n",
    "        return dataPoints"
   ]
  },
  {
   "cell_type": "code",
   "execution_count": 19,
   "metadata": {
    "collapsed": false
   },
   "outputs": [
    {
     "name": "stdout",
     "output_type": "stream",
     "text": [
      "cluster:  [ 6.85384615  3.07692308  5.71538462  2.05384615] contains:  39 points\n",
      "cluster:  [ 5.88360656  2.74098361  4.38852459  1.43442623] contains:  61 points\n",
      "cluster:  [ 5.006  3.418  1.464  0.244] contains:  50 points\n"
     ]
    },
    {
     "data": {
      "image/png": "[encoded data removed]",
      "text/plain": [
       "<matplotlib.figure.Figure at 0x108064b90>"
      ]
     },
     "metadata": {},
     "output_type": "display_data"
    },
    {
     "data": {
      "text/plain": [
       "array([[ 6.1,  2.8,  4.7,  1.2],\n",
       "       [ 6. ,  2.9,  4.5,  1.5],\n",
       "       [ 5. ,  3.3,  1.4,  0.2]])"
      ]
     },
     "execution_count": 19,
     "metadata": {},
     "output_type": "execute_result"
    }
   ],
   "source": [
    "iris = load_iris()\n",
    "data=iris.data\n",
    "mykmeans(data,maxClusterNumbers=3,kmtype=\"plane\")  "
   ]
  },
  {
   "cell_type": "code",
   "execution_count": null,
   "metadata": {
    "collapsed": true
   },
   "outputs": [],
   "source": [
    "iris = load_iris()\n",
    "data=iris.data\n",
    "mykmeans(data,maxClusterNumbers=3,kmtype=\"plane\")  "
   ]
  }
 ],
 "metadata": {
  "kernelspec": {
   "display_name": "Python 2",
   "language": "python",
   "name": "python2"
  },
  "language_info": {
   "codemirror_mode": {
    "name": "ipython",
    "version": 2
   },
   "file_extension": ".py",
   "mimetype": "text/x-python",
   "name": "python",
   "nbconvert_exporter": "python",
   "pygments_lexer": "ipython2",
   "version": "2.7.10"
  }
 },
 "nbformat": 4,
 "nbformat_minor": 0
}
