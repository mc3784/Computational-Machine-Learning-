{
 "cells": [
  {
   "cell_type": "markdown",
   "metadata": {},
   "source": [
    "# 2.1 k-means: a first version:"
   ]
  },
  {
   "cell_type": "code",
   "execution_count": 22,
   "metadata": {
    "collapsed": true
   },
   "outputs": [],
   "source": [
    "from sklearn.datasets import load_iris\n",
    "import numpy as np\n",
    "from scipy import spatial\n",
    "import matplotlib.pyplot as plt\n",
    "%matplotlib inline"
   ]
  },
  {
   "cell_type": "code",
   "execution_count": 25,
   "metadata": {
    "collapsed": false
   },
   "outputs": [],
   "source": [
    "def getNewClusterForPoint(point,clusters): \n",
    "    listOfCLusters=[]\n",
    "    for clt in clusters:\n",
    "        listOfCLusters.append(clt.centroid)\n",
    "    return clusters[spatial.KDTree(np.array(listOfCLusters)).query(point)[1]] \n",
    "\n",
    "def mykmeans(dataPoints,maxClusterNumbers,maxIter=100,kmtype=\"plane\"):   \n",
    "    random_seed = 10312003\n",
    "    rng = np.random.RandomState(random_seed)\n",
    "    permutation = rng.permutation(len(dataPoints))\n",
    "    dataPoints = dataPoints[permutation] \n",
    "    data = generateStartingCentroid(dataPoints,maxClusterNumbers,kmeansTypy=kmtype)\n",
    "    centroids=data[0:maxClusterNumbers]\n",
    "    clusters = [Cluster(point,[point]) for point in centroids] \n",
    "    for nIter in range(maxIter):\n",
    "    #To exclude the three centroids that were randomly selected from the data    \n",
    "        allThePoints = data[maxClusterNumbers:] if nIter==0 else data \n",
    "        for cl in clusters:   \n",
    "            cl.pointInCluster=[]# Erase all the point in the cluster before starting with the new iteration\n",
    "        for point in allThePoints:\n",
    "            newCluster=getNewClusterForPoint(point,clusters)\n",
    "            newCluster.pointInCluster.append(point) \n",
    "        for cl in clusters:\n",
    "            #If in the cluster there is at list one point:\n",
    "            if len(cl.pointInCluster)!=0:\n",
    "                #New centroid placed on the average of the points in the cluster\n",
    "                newCentroid=np.mean(np.array(cl.pointInCluster),axis=0)\n",
    "                cl.centroid=newCentroid\n",
    "    for cl in clusters:\n",
    "        print \"cluster: \", cl.centroid,\"contains: \",len(cl.pointInCluster),\"points\"\n",
    "    plotClusters(clusters) \n",
    "\n",
    "class Cluster:\n",
    "    centroid=[]\n",
    "    pointInCluster=[]\n",
    "    def __init__(self,centroid,pointInCluster):\n",
    "        self.centroid=centroid\n",
    "        self.pointInCluster=pointInCluster\n",
    "    def getDistanceFromCentroid(self,point):\n",
    "        return np.linalg.norm(self.centroid-point)\n",
    "\n",
    "def plotClusters(clusters):\n",
    "    #colors = \"bgrcmykw\"\n",
    "    for i in range(len(clusters)):\n",
    "        iCluster= np.array(clusters[i].pointInCluster)\n",
    "        #plt.scatter(iCluster[:,0], iCluster[:,1],c=np.random.rand(3,1))\n",
    "        plt.scatter(iCluster[:,0], iCluster[:,1],c=np.random.rand(3,1))\n",
    "        centroid=clusters[i].centroid\n",
    "        plt.scatter(centroid[0], centroid[1],c=\"gold\")\n",
    "    plt.show()\n",
    "    \n",
    "#Given a list of centroids and a point, return the closer centroid from this point \n",
    "def getCloserCentroid(point,centroids): \n",
    "    return centroids[spatial.KDTree(np.array(centroids)).query(point)[1]] \n",
    "\n",
    "def generateStartingCentroid(dataPoints,maxClusternumbers,kmeansTypy=\"plane\"):\n",
    "    if kmeansTypy == \"plane\":\n",
    "        return dataPoints"
   ]
  },
  {
   "cell_type": "code",
   "execution_count": 26,
   "metadata": {
    "collapsed": false
   },
   "outputs": [
    {
     "name": "stdout",
     "output_type": "stream",
     "text": [
      "cluster:  [ 6.85384615  3.07692308  5.71538462  2.05384615] contains:  39 points\n",
      "cluster:  [ 5.88360656  2.74098361  4.38852459  1.43442623] contains:  61 points\n",
      "cluster:  [ 5.006  3.418  1.464  0.244] contains:  50 points\n"
     ]
    },
    {
     "data": {
      "image/png": "[encoded data removed]",
      "text/plain": [
       "<matplotlib.figure.Figure at 0x10886dc90>"
      ]
     },
     "metadata": {},
     "output_type": "display_data"
    }
   ],
   "source": [
    "iris = load_iris()\n",
    "data=iris.data\n",
    "mykmeans(data,maxClusterNumbers=3,kmtype=\"plane\")  "
   ]
  },
  {
   "cell_type": "markdown",
   "metadata": {},
   "source": [
    "What happens when k is large?\n",
    "When the number of cluster grows we have more centroid and less point for each cluster. for k=150 more or less al point would be centroid of its own clusters. For k=100 half of the centroid will have another point in their cluster and another half will be alone in thei cluster:"
   ]
  },
  {
   "cell_type": "code",
   "execution_count": 28,
   "metadata": {
    "collapsed": false
   },
   "outputs": [
    {
     "name": "stdout",
     "output_type": "stream",
     "text": [
      "cluster:  [ 6.1  2.8  4.7  1.2] contains:  1 points\n",
      "cluster:  [ 6.   2.9  4.5  1.5] contains:  1 points\n",
      "cluster:  [ 5.    3.25  1.3   0.2 ] contains:  2 points\n",
      "cluster:  [ 5.8  4.   1.2  0.2] contains:  1 points\n",
      "cluster:  [ 5.   3.5  1.6  0.6] contains:  1 points\n",
      "cluster:  [ 6.5  2.8  4.6  1.5] contains:  1 points\n",
      "cluster:  [ 6.6  3.   4.4  1.4] contains:  1 points\n",
      "cluster:  [ 5.6   4.3   1.45  0.3 ] contains:  2 points\n",
      "cluster:  [ 5.4  3.9  1.7  0.4] contains:  1 points\n",
      "cluster:  [ 6.2  2.2  4.5  1.5] contains:  1 points\n",
      "cluster:  [ 7.7  2.6  6.9  2.3] contains:  1 points\n",
      "cluster:  [ 5.6  2.5  3.6  1. ] contains:  2 points\n",
      "cluster:  [ 6.3  3.3  4.7  1.6] contains:  1 points\n",
      "cluster:  [ 6.4  2.8  5.6  2.1] contains:  1 points\n",
      "cluster:  [ 6.3  3.3  6.   2.5] contains:  1 points\n",
      "cluster:  [ 5.65  2.75  4.15  1.3 ] contains:  2 points\n",
      "cluster:  [ 5.   2.   3.5  1. ] contains:  1 points\n",
      "cluster:  [ 6.3  2.5  4.9  1.5] contains:  1 points\n",
      "cluster:  [ 5.7  2.5  5.   2. ] contains:  1 points\n",
      "cluster:  [ 5.   2.3  3.3  1. ] contains:  1 points\n",
      "cluster:  [ 6.1  2.9  4.7  1.4] contains:  1 points\n",
      "cluster:  [ 6.5  3.   5.8  2.2] contains:  1 points\n",
      "cluster:  [ 6.76666667  3.2         5.66666667  2.4       ] contains:  3 points\n",
      "cluster:  [ 6.4  2.8  5.6  2.2] contains:  1 points\n",
      "cluster:  [ 4.88  3.06  1.46  0.16] contains:  5 points\n",
      "cluster:  [ 5.2  2.7  3.9  1.4] contains:  1 points\n",
      "cluster:  [ 6.8   3.05  5.15  2.3 ] contains:  2 points\n",
      "cluster:  [ 6.7  3.1  4.4  1.4] contains:  1 points\n",
      "cluster:  [ 4.9  2.5  4.5  1.7] contains:  1 points\n",
      "cluster:  [ 5.1  2.5  3.   1.1] contains:  1 points\n",
      "cluster:  [ 6.7  3.1  4.7  1.5] contains:  1 points\n",
      "cluster:  [ 4.6   3.15  1.45  0.2 ] contains:  2 points\n",
      "cluster:  [ 6.8  2.8  4.8  1.4] contains:  1 points\n",
      "cluster:  [ 6.46666667  2.96666667  5.2         1.96666667] contains:  3 points\n",
      "cluster:  [ 5.6  3.   4.1  1.3] contains:  1 points\n",
      "cluster:  [ 7.35  2.85  6.2   1.85] contains:  2 points\n",
      "cluster:  [ 5.35  3.7   1.5   0.2 ] contains:  2 points\n",
      "cluster:  [ 6.3         3.33333333  5.43333333  2.33333333] contains:  3 points\n",
      "cluster:  [ 7.65  2.9   6.65  2.05] contains:  2 points\n",
      "cluster:  [ 6.4  2.9  4.3  1.3] contains:  1 points\n",
      "cluster:  [ 4.3  3.   1.1  0.1] contains:  1 points\n",
      "cluster:  [ 7.7  3.   6.1  2.3] contains:  1 points\n",
      "cluster:  [ 5.95  3.1   4.8   1.8 ] contains:  2 points\n",
      "cluster:  [ 6.4  3.2  4.5  1.5] contains:  1 points\n",
      "cluster:  [ 4.8  3.4  1.6  0.2] contains:  1 points\n",
      "cluster:  [ 5.   3.6  1.4  0.2] contains:  1 points\n",
      "cluster:  [ 5.5  2.4  4.   1.3] contains:  2 points\n",
      "cluster:  [ 5.2  3.4  1.4  0.2] contains:  1 points\n",
      "cluster:  [ 5.73333333  2.73333333  5.03333333  1.93333333] contains:  3 points\n",
      "cluster:  [ 5.8  2.7  4.1  1. ] contains:  1 points\n",
      "cluster:  [ 6.85  3.05  5.45  2.1 ] contains:  2 points\n",
      "cluster:  [ 7.1  3.   5.9  2.1] contains:  1 points\n",
      "cluster:  [ 6.95  3.15  4.8   1.45] contains:  2 points\n",
      "cluster:  [ 4.6  3.4  1.4  0.3] contains:  1 points\n",
      "cluster:  [ 6.3   2.6   4.95  1.85] contains:  2 points\n",
      "cluster:  [ 5.9  3.   4.2  1.5] contains:  1 points\n",
      "cluster:  [ 4.7  3.2  1.3  0.2] contains:  1 points\n",
      "cluster:  [ 5.2  3.5  1.5  0.2] contains:  1 points\n",
      "cluster:  [ 4.6  3.6  1.   0.2] contains:  1 points\n",
      "cluster:  [ 7.2  3.1  5.9  1.7] contains:  2 points\n",
      "cluster:  [ 6.1  2.6  5.6  1.4] contains:  1 points\n",
      "cluster:  [ 6.1  2.8  4.   1.3] contains:  1 points\n",
      "cluster:  [ 6.   2.2  5.   1.5] contains:  1 points\n",
      "cluster:  [ 4.4   2.95  1.35  0.2 ] contains:  2 points\n",
      "cluster:  [ 4.9  2.4  3.3  1. ] contains:  1 points\n",
      "cluster:  [ 6.2  2.9  4.3  1.3] contains:  1 points\n",
      "cluster:  [ 6.15  2.9   4.85  1.8 ] contains:  2 points\n",
      "cluster:  [ 5.7   2.95  4.2   1.25] contains:  2 points\n",
      "cluster:  [ 4.4  3.2  1.3  0.2] contains:  1 points\n",
      "cluster:  [ 6.   3.4  4.5  1.6] contains:  1 points\n",
      "cluster:  [ 5.   3.   1.6  0.2] contains:  1 points\n",
      "cluster:  [ 5.05  3.35  1.65  0.45] contains:  2 points\n",
      "cluster:  [ 6.   2.2  4.   1. ] contains:  1 points\n",
      "cluster:  [ 7.2  3.6  6.1  2.5] contains:  1 points\n",
      "cluster:  [ 5.56666667  2.93333333  4.5         1.43333333] contains:  3 points\n",
      "cluster:  [ 4.8  3.4  1.9  0.2] contains:  1 points\n",
      "cluster:  [ 5.5  3.5  1.3  0.2] contains:  1 points\n",
      "cluster:  [ 6.15  2.75  5.1   1.55] contains:  2 points\n",
      "cluster:  [ 5.8   2.65  3.95  1.2 ] contains:  2 points\n",
      "cluster:  [ 5.55  2.45  3.85  1.1 ] contains:  2 points\n",
      "cluster:  [ 4.5  2.3  1.3  0.3] contains:  1 points\n",
      "cluster:  [ 5.12  3.84  1.6   0.28] contains:  5 points\n",
      "cluster:  [ 6.7  3.   5.   1.7] contains:  1 points\n",
      "cluster:  [ 5.06  3.46  1.42  0.24] contains:  5 points\n",
      "cluster:  [ 5.7  3.8  1.7  0.3] contains:  1 points\n",
      "cluster:  [ 5.4  3.4  1.6  0.3] contains:  2 points\n",
      "cluster:  [ 6.75  3.25  5.8   2.2 ] contains:  2 points\n",
      "cluster:  [ 7.8   3.8   6.55  2.1 ] contains:  2 points\n",
      "cluster:  [ 6.1  3.   4.6  1.4] contains:  1 points\n",
      "cluster:  [ 6.7  2.5  5.8  1.8] contains:  1 points\n",
      "cluster:  [ 5.4  3.9  1.3  0.4] contains:  1 points\n",
      "cluster:  [ 5.6  2.9  3.6  1.3] contains:  1 points\n",
      "cluster:  [ 5.8  2.8  5.1  2.4] contains:  1 points\n",
      "cluster:  [ 6.4         3.          5.53333333  1.8       ] contains:  3 points\n",
      "cluster:  [ 6.6  2.9  4.6  1.3] contains:  1 points\n",
      "cluster:  [ 4.8  3.   1.4  0.1] contains:  1 points\n",
      "cluster:  [ 5.5  2.6  4.4  1.2] contains:  1 points\n",
      "cluster:  [ 6.3  2.3  4.4  1.3] contains:  1 points\n",
      "cluster:  [ 4.75  3.15  1.6   0.2 ] contains:  2 points\n",
      "cluster:  [ 5.9  3.   5.1  1.8] contains:  1 points\n"
     ]
    },
    {
     "data": {
      "image/png": "[encoded data removed]",
      "text/plain": [
       "<matplotlib.figure.Figure at 0x108c441d0>"
      ]
     },
     "metadata": {},
     "output_type": "display_data"
    }
   ],
   "source": [
    "mykmeans(data,maxClusterNumbers=100,kmtype=\"plane\") "
   ]
  },
  {
   "cell_type": "markdown",
   "metadata": {},
   "source": [
    "# 2.2 k-means++"
   ]
  },
  {
   "cell_type": "code",
   "execution_count": 40,
   "metadata": {
    "collapsed": false
   },
   "outputs": [],
   "source": [
    "def getNewClusterForPoint(point,clusters): \n",
    "    listOfCLusters=[]\n",
    "    for clt in clusters:\n",
    "        listOfCLusters.append(clt.centroid)\n",
    "    return clusters[spatial.KDTree(np.array(listOfCLusters)).query(point)[1]] \n",
    "    \n",
    "def mykmeansMulti(dataPoints,maxClusterNumbers,maxIter=100,numberOfLoop=10,kmType=\"multi\"):   \n",
    "    random_seed = 10312003\n",
    "    rng = np.random.RandomState(random_seed)\n",
    "    permutation = rng.permutation(len(dataPoints))\n",
    "    dataPoints = dataPoints[permutation] \n",
    "    bestPerformingDistortion = np.zeros(maxIter)\n",
    "    for i in range(numberOfLoop):\n",
    "        data=np.roll(dataPoints, i+maxClusterNumbers, axis=0)    \n",
    "        data = generateStartingCentroid(data,maxClusterNumbers,kmeansTypy=kmType)\n",
    "        centroids=data[0:maxClusterNumbers]\n",
    "        clusters = [Cluster(point,[point]) for point in centroids]       \n",
    "        distortionInIterations = np.zeros(maxIter)\n",
    "        clustersInIterations = []\n",
    "        for nIter in range(maxIter):\n",
    "        #To exclude the three centroids that were randomly selected from the data    \n",
    "            allThePoints = data[maxClusterNumbers:] if nIter==0 else data \n",
    "            for cl in clusters:   \n",
    "                cl.pointInCluster=[]# Erase all the point in the cluster before starting with the new iteration\n",
    "            for point in allThePoints:\n",
    "                newCluster=getNewClusterForPoint(point,clusters)\n",
    "                newCluster.pointInCluster.append(point)             \n",
    "            storedInfoOfClusters = []\n",
    "            for cl in clusters:         \n",
    "                storedInfoOfClusters.append(Cluster(cl.centroid,cl.pointInCluster))\n",
    "                #If in the cluster there is at list one point:\n",
    "                if len(cl.pointInCluster)!=0:\n",
    "                    #New centroid placed on the average of the points in the cluster\n",
    "                    newCentroid=np.mean(np.array(cl.pointInCluster),axis=0)\n",
    "                    cl.centroid=newCentroid\n",
    "            #To plot the distortion curve for the best performing set of initial poinst:\n",
    "            distortion = 0         \n",
    "            #Calculate distortion for each iteration\n",
    "            for cl in clusters:   \n",
    "                distortion = distortion + cl.computeClusterDistortion()\n",
    "            distortionInIterations[nIter]=distortion \n",
    "            clustersInIterations.append(np.array(storedInfoOfClusters))\n",
    "        #To pick the information of the best performing clusters:       \n",
    "        if i==0:\n",
    "            bestPerformingDistortion = distortionInIterations[:]\n",
    "            bestPerformingClusters   = np.array(clustersInIterations)\n",
    "        elif distortionInIterations[-1]<bestPerformingDistortion[-1]:\n",
    "            bestPerformingDistortion = distortionInIterations[:]\n",
    "            bestPerformingClusters   = np.array(clustersInIterations)\n",
    "     \n",
    "    #To plot the best performance cluster with the trajectory of the centroid:                   \n",
    "    for ncl in range(maxClusterNumbers):\n",
    "        x=[]\n",
    "        y=[]\n",
    "        clusterColor=np.random.rand(3,1)\n",
    "        for cl in bestPerformingClusters[:,ncl]:#Pick one centroid and look at the trajectory\n",
    "            x.append(cl.centroid[0])\n",
    "            y.append(cl.centroid[1])           \n",
    "        plt.plot(x,y,c=clusterColor)\n",
    "        #print \"All the point in cluster:\",ncl,\": \", bestPerformingClusters[-1][ncl].pointInCluster  \n",
    "        pointInOneCluster= np.array(bestPerformingClusters[-1][ncl].pointInCluster)\n",
    "        plt.scatter(pointInOneCluster[:,0],pointInOneCluster[:,1],c=clusterColor)    \n",
    "    print \"Printing che cluster plot...\"\n",
    "    plt.show()\n",
    "    plt.clf()\n",
    "    plt.scatter(range(maxIter),bestPerformingDistortion)\n",
    "    plt.xlim(0.,100)\n",
    "    print \"Printing the distortion curve for the best performing iteration\"\n",
    "    plt.show()\n",
    "    \n",
    "class Cluster:\n",
    "    centroid=[]\n",
    "    pointInCluster=[]\n",
    "    \n",
    "    def __init__(self,centroid,pointInCluster):\n",
    "        self.centroid=centroid\n",
    "        self.pointInCluster=pointInCluster\n",
    "    \n",
    "    def getDistanceFromCentroid(self,point):\n",
    "        return np.linalg.norm(self.centroid-point)\n",
    "    \n",
    "    def computeClusterDistortion(self):\n",
    "        clusterDistortion=0\n",
    "        for point in np.array(self.pointInCluster):\n",
    "            clusterDistortion = clusterDistortion + np.linalg.norm(point-self.centroid)\n",
    "        return  clusterDistortion\n",
    "\n",
    "def plotClusters(clusters):\n",
    "    for i in range(len(clusters)):\n",
    "        iCluster= np.array(clusters[i].pointInCluster)\n",
    "        plt.scatter(iCluster[:,0], iCluster[:,1],c=np.random.rand(3,1))\n",
    "        centroid=clusters[i].centroid\n",
    "        plt.scatter(centroid[0], centroid[1],c=\"gold\")\n",
    "    plt.show()\n",
    "    \n",
    "def generateStartingCentroid(dataPoints,maxClusternumbers,kmeansTypy):\n",
    "    if kmeansTypy == \"plane\":\n",
    "        return dataPoints\n",
    "    elif kmeansTypy == \"plus\":\n",
    "        centroids = []\n",
    "        centroids.append(dataPoints[0])\n",
    "        for i in range(maxClusternumbers-1):\n",
    "            distList=[]\n",
    "            for point in dataPoints[i+1:]:\n",
    "                dist = np.linalg.norm(point-getCloserCentroid(point,centroids))\n",
    "                distList.append(dist)\n",
    "            weightProb=distList/sum(distList)\n",
    "            indexes=range(len(dataPoints[i+1:]))\n",
    "            index= np.random.choice(indexes, p=weightProb)\n",
    "            #Add 1 because the point was randomly chosen on the n-1 point range so the index is one before the real one\n",
    "            centroids.append(dataPoints[index])\n",
    "            #Put the new centroid at the begining of the array\n",
    "            dataPoints = np.concatenate((dataPoints[index:index+1],dataPoints[:index],dataPoints[index+1:]),axis=0)\n",
    "        return dataPoints\n",
    "    \n",
    "#Given a list of centroids and a point, return the closer centroid from this point \n",
    "def getCloserCentroid(point,centroids): \n",
    "    return centroids[spatial.KDTree(np.array(centroids)).query(point)[1]] "
   ]
  },
  {
   "cell_type": "code",
   "execution_count": 41,
   "metadata": {
    "collapsed": false
   },
   "outputs": [
    {
     "ename": "TypeError",
     "evalue": "'NoneType' object has no attribute '__getitem__'",
     "output_type": "error",
     "traceback": [
      "\u001b[0;31m---------------------------------------------------------------------------\u001b[0m",
      "\u001b[0;31mTypeError\u001b[0m                                 Traceback (most recent call last)",
      "\u001b[0;32m<ipython-input-41-ad4be99db00a>\u001b[0m in \u001b[0;36m<module>\u001b[0;34m()\u001b[0m\n\u001b[0;32m----> 1\u001b[0;31m \u001b[0mmykmeansMulti\u001b[0m\u001b[0;34m(\u001b[0m\u001b[0mdata\u001b[0m\u001b[0;34m,\u001b[0m\u001b[0mmaxClusterNumbers\u001b[0m\u001b[0;34m=\u001b[0m\u001b[0;36m3\u001b[0m\u001b[0;34m,\u001b[0m\u001b[0mkmType\u001b[0m\u001b[0;34m=\u001b[0m\u001b[0;34m\"multi\"\u001b[0m\u001b[0;34m)\u001b[0m\u001b[0;34m\u001b[0m\u001b[0m\n\u001b[0m",
      "\u001b[0;32m<ipython-input-40-e8fafcd0ee6c>\u001b[0m in \u001b[0;36mmykmeansMulti\u001b[0;34m(dataPoints, maxClusterNumbers, maxIter, numberOfLoop, kmType)\u001b[0m\n\u001b[1;32m     14\u001b[0m         \u001b[0mdata\u001b[0m\u001b[0;34m=\u001b[0m\u001b[0mnp\u001b[0m\u001b[0;34m.\u001b[0m\u001b[0mroll\u001b[0m\u001b[0;34m(\u001b[0m\u001b[0mdataPoints\u001b[0m\u001b[0;34m,\u001b[0m \u001b[0mi\u001b[0m\u001b[0;34m+\u001b[0m\u001b[0mmaxClusterNumbers\u001b[0m\u001b[0;34m,\u001b[0m \u001b[0maxis\u001b[0m\u001b[0;34m=\u001b[0m\u001b[0;36m0\u001b[0m\u001b[0;34m)\u001b[0m\u001b[0;34m\u001b[0m\u001b[0m\n\u001b[1;32m     15\u001b[0m         \u001b[0mdata\u001b[0m \u001b[0;34m=\u001b[0m \u001b[0mgenerateStartingCentroid\u001b[0m\u001b[0;34m(\u001b[0m\u001b[0mdata\u001b[0m\u001b[0;34m,\u001b[0m\u001b[0mmaxClusterNumbers\u001b[0m\u001b[0;34m,\u001b[0m\u001b[0mkmType\u001b[0m\u001b[0;34m)\u001b[0m\u001b[0;34m\u001b[0m\u001b[0m\n\u001b[0;32m---> 16\u001b[0;31m         \u001b[0mcentroids\u001b[0m\u001b[0;34m=\u001b[0m\u001b[0mdata\u001b[0m\u001b[0;34m[\u001b[0m\u001b[0;36m0\u001b[0m\u001b[0;34m:\u001b[0m\u001b[0mmaxClusterNumbers\u001b[0m\u001b[0;34m]\u001b[0m\u001b[0;34m\u001b[0m\u001b[0m\n\u001b[0m\u001b[1;32m     17\u001b[0m         \u001b[0mclusters\u001b[0m \u001b[0;34m=\u001b[0m \u001b[0;34m[\u001b[0m\u001b[0mCluster\u001b[0m\u001b[0;34m(\u001b[0m\u001b[0mpoint\u001b[0m\u001b[0;34m,\u001b[0m\u001b[0;34m[\u001b[0m\u001b[0mpoint\u001b[0m\u001b[0;34m]\u001b[0m\u001b[0;34m)\u001b[0m \u001b[0;32mfor\u001b[0m \u001b[0mpoint\u001b[0m \u001b[0;32min\u001b[0m \u001b[0mcentroids\u001b[0m\u001b[0;34m]\u001b[0m\u001b[0;34m\u001b[0m\u001b[0m\n\u001b[1;32m     18\u001b[0m         \u001b[0mdistortionInIterations\u001b[0m \u001b[0;34m=\u001b[0m \u001b[0mnp\u001b[0m\u001b[0;34m.\u001b[0m\u001b[0mzeros\u001b[0m\u001b[0;34m(\u001b[0m\u001b[0mmaxIter\u001b[0m\u001b[0;34m)\u001b[0m\u001b[0;34m\u001b[0m\u001b[0m\n",
      "\u001b[0;31mTypeError\u001b[0m: 'NoneType' object has no attribute '__getitem__'"
     ]
    }
   ],
   "source": [
    "mykmeansMulti(data,maxClusterNumbers=3,kmType=\"multi\")  "
   ]
  },
  {
   "cell_type": "code",
   "execution_count": null,
   "metadata": {
    "collapsed": true
   },
   "outputs": [],
   "source": []
  }
 ],
 "metadata": {
  "kernelspec": {
   "display_name": "Python 2",
   "language": "python",
   "name": "python2"
  },
  "language_info": {
   "codemirror_mode": {
    "name": "ipython",
    "version": 2
   },
   "file_extension": ".py",
   "mimetype": "text/x-python",
   "name": "python",
   "nbconvert_exporter": "python",
   "pygments_lexer": "ipython2",
   "version": "2.7.10"
  }
 },
 "nbformat": 4,
 "nbformat_minor": 0
}
